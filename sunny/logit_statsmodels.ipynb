{
 "cells": [
  {
   "cell_type": "markdown",
   "id": "a5f0e2b6",
   "metadata": {},
   "source": [
    "### Import Libraries"
   ]
  },
  {
   "cell_type": "code",
   "execution_count": 117,
   "id": "aff40947",
   "metadata": {},
   "outputs": [],
   "source": [
    "import pandas as pd\n",
    "import numpy as np\n",
    "\n",
    "import statsmodels.api as sm\n",
    "\n",
    "from sklearn.linear_model import LinearRegression\n",
    "from sklearn.linear_model import LogisticRegression\n",
    "from sklearn import preprocessing\n",
    "from sklearn.preprocessing import OneHotEncoder\n",
    "from sklearn.preprocessing import LabelBinarizer\n",
    "from sklearn.metrics import confusion_matrix\n",
    "from sklearn.model_selection import train_test_split\n",
    "from sklearn.metrics import r2_score\n",
    "from sklearn.metrics import mean_squared_error"
   ]
  },
  {
   "cell_type": "markdown",
   "id": "211703ff",
   "metadata": {},
   "source": [
    "### Load Dataset"
   ]
  },
  {
   "cell_type": "code",
   "execution_count": 17,
   "id": "83ffcd3e",
   "metadata": {},
   "outputs": [],
   "source": [
    "df = pd.read_csv(\"/Users/yexuanshen/Desktop/UTMMA/UTMMA_Datathon/Rotman MMA Summer Datathon NWHL.csv\")"
   ]
  },
  {
   "cell_type": "code",
   "execution_count": 18,
   "id": "938defd4",
   "metadata": {
    "scrolled": true
   },
   "outputs": [
    {
     "data": {
      "text/html": [
       "<div>\n",
       "<style scoped>\n",
       "    .dataframe tbody tr th:only-of-type {\n",
       "        vertical-align: middle;\n",
       "    }\n",
       "\n",
       "    .dataframe tbody tr th {\n",
       "        vertical-align: top;\n",
       "    }\n",
       "\n",
       "    .dataframe thead th {\n",
       "        text-align: right;\n",
       "    }\n",
       "</style>\n",
       "<table border=\"1\" class=\"dataframe\">\n",
       "  <thead>\n",
       "    <tr style=\"text-align: right;\">\n",
       "      <th></th>\n",
       "      <th>game_date</th>\n",
       "      <th>Home Team</th>\n",
       "      <th>Away Team</th>\n",
       "      <th>Period</th>\n",
       "      <th>Clock</th>\n",
       "      <th>Home Team Skaters</th>\n",
       "      <th>Away Team Skaters</th>\n",
       "      <th>Home Team Goals</th>\n",
       "      <th>Away Team Goals</th>\n",
       "      <th>Team</th>\n",
       "      <th>...</th>\n",
       "      <th>Event</th>\n",
       "      <th>X Coordinate</th>\n",
       "      <th>Y Coordinate</th>\n",
       "      <th>Detail 1</th>\n",
       "      <th>Detail 2</th>\n",
       "      <th>Detail 3</th>\n",
       "      <th>Detail 4</th>\n",
       "      <th>Player 2</th>\n",
       "      <th>X Coordinate 2</th>\n",
       "      <th>Y Coordinate 2</th>\n",
       "    </tr>\n",
       "  </thead>\n",
       "  <tbody>\n",
       "    <tr>\n",
       "      <th>0</th>\n",
       "      <td>2021-01-23</td>\n",
       "      <td>Minnesota Whitecaps</td>\n",
       "      <td>Boston Pride</td>\n",
       "      <td>1</td>\n",
       "      <td>20:00</td>\n",
       "      <td>5</td>\n",
       "      <td>5</td>\n",
       "      <td>0</td>\n",
       "      <td>0</td>\n",
       "      <td>Boston Pride</td>\n",
       "      <td>...</td>\n",
       "      <td>Faceoff Win</td>\n",
       "      <td>100</td>\n",
       "      <td>43</td>\n",
       "      <td>Backhand</td>\n",
       "      <td>NaN</td>\n",
       "      <td>NaN</td>\n",
       "      <td>NaN</td>\n",
       "      <td>Stephanie Anderson</td>\n",
       "      <td>NaN</td>\n",
       "      <td>NaN</td>\n",
       "    </tr>\n",
       "    <tr>\n",
       "      <th>1</th>\n",
       "      <td>2021-01-23</td>\n",
       "      <td>Minnesota Whitecaps</td>\n",
       "      <td>Boston Pride</td>\n",
       "      <td>1</td>\n",
       "      <td>19:58</td>\n",
       "      <td>5</td>\n",
       "      <td>5</td>\n",
       "      <td>0</td>\n",
       "      <td>0</td>\n",
       "      <td>Boston Pride</td>\n",
       "      <td>...</td>\n",
       "      <td>Puck Recovery</td>\n",
       "      <td>107</td>\n",
       "      <td>40</td>\n",
       "      <td>NaN</td>\n",
       "      <td>NaN</td>\n",
       "      <td>NaN</td>\n",
       "      <td>NaN</td>\n",
       "      <td>NaN</td>\n",
       "      <td>NaN</td>\n",
       "      <td>NaN</td>\n",
       "    </tr>\n",
       "    <tr>\n",
       "      <th>2</th>\n",
       "      <td>2021-01-23</td>\n",
       "      <td>Minnesota Whitecaps</td>\n",
       "      <td>Boston Pride</td>\n",
       "      <td>1</td>\n",
       "      <td>19:57</td>\n",
       "      <td>5</td>\n",
       "      <td>5</td>\n",
       "      <td>0</td>\n",
       "      <td>0</td>\n",
       "      <td>Boston Pride</td>\n",
       "      <td>...</td>\n",
       "      <td>Zone Entry</td>\n",
       "      <td>125</td>\n",
       "      <td>28</td>\n",
       "      <td>Carried</td>\n",
       "      <td>NaN</td>\n",
       "      <td>NaN</td>\n",
       "      <td>NaN</td>\n",
       "      <td>Maddie Rowe</td>\n",
       "      <td>NaN</td>\n",
       "      <td>NaN</td>\n",
       "    </tr>\n",
       "    <tr>\n",
       "      <th>3</th>\n",
       "      <td>2021-01-23</td>\n",
       "      <td>Minnesota Whitecaps</td>\n",
       "      <td>Boston Pride</td>\n",
       "      <td>1</td>\n",
       "      <td>19:55</td>\n",
       "      <td>5</td>\n",
       "      <td>5</td>\n",
       "      <td>0</td>\n",
       "      <td>0</td>\n",
       "      <td>Boston Pride</td>\n",
       "      <td>...</td>\n",
       "      <td>Shot</td>\n",
       "      <td>131</td>\n",
       "      <td>28</td>\n",
       "      <td>Snapshot</td>\n",
       "      <td>On Net</td>\n",
       "      <td>t</td>\n",
       "      <td>f</td>\n",
       "      <td>NaN</td>\n",
       "      <td>NaN</td>\n",
       "      <td>NaN</td>\n",
       "    </tr>\n",
       "    <tr>\n",
       "      <th>4</th>\n",
       "      <td>2021-01-23</td>\n",
       "      <td>Minnesota Whitecaps</td>\n",
       "      <td>Boston Pride</td>\n",
       "      <td>1</td>\n",
       "      <td>19:53</td>\n",
       "      <td>5</td>\n",
       "      <td>5</td>\n",
       "      <td>0</td>\n",
       "      <td>0</td>\n",
       "      <td>Boston Pride</td>\n",
       "      <td>...</td>\n",
       "      <td>Faceoff Win</td>\n",
       "      <td>169</td>\n",
       "      <td>21</td>\n",
       "      <td>Backhand</td>\n",
       "      <td>NaN</td>\n",
       "      <td>NaN</td>\n",
       "      <td>NaN</td>\n",
       "      <td>Stephanie Anderson</td>\n",
       "      <td>NaN</td>\n",
       "      <td>NaN</td>\n",
       "    </tr>\n",
       "  </tbody>\n",
       "</table>\n",
       "<p>5 rows × 21 columns</p>\n",
       "</div>"
      ],
      "text/plain": [
       "    game_date            Home Team     Away Team  Period  Clock  \\\n",
       "0  2021-01-23  Minnesota Whitecaps  Boston Pride       1  20:00   \n",
       "1  2021-01-23  Minnesota Whitecaps  Boston Pride       1  19:58   \n",
       "2  2021-01-23  Minnesota Whitecaps  Boston Pride       1  19:57   \n",
       "3  2021-01-23  Minnesota Whitecaps  Boston Pride       1  19:55   \n",
       "4  2021-01-23  Minnesota Whitecaps  Boston Pride       1  19:53   \n",
       "\n",
       "   Home Team Skaters  Away Team Skaters  Home Team Goals  Away Team Goals  \\\n",
       "0                  5                  5                0                0   \n",
       "1                  5                  5                0                0   \n",
       "2                  5                  5                0                0   \n",
       "3                  5                  5                0                0   \n",
       "4                  5                  5                0                0   \n",
       "\n",
       "           Team  ...          Event X Coordinate  Y Coordinate  Detail 1  \\\n",
       "0  Boston Pride  ...    Faceoff Win          100            43  Backhand   \n",
       "1  Boston Pride  ...  Puck Recovery          107            40       NaN   \n",
       "2  Boston Pride  ...     Zone Entry          125            28   Carried   \n",
       "3  Boston Pride  ...           Shot          131            28  Snapshot   \n",
       "4  Boston Pride  ...    Faceoff Win          169            21  Backhand   \n",
       "\n",
       "  Detail 2 Detail 3 Detail 4            Player 2 X Coordinate 2  \\\n",
       "0      NaN      NaN      NaN  Stephanie Anderson            NaN   \n",
       "1      NaN      NaN      NaN                 NaN            NaN   \n",
       "2      NaN      NaN      NaN         Maddie Rowe            NaN   \n",
       "3   On Net        t        f                 NaN            NaN   \n",
       "4      NaN      NaN      NaN  Stephanie Anderson            NaN   \n",
       "\n",
       "   Y Coordinate 2  \n",
       "0             NaN  \n",
       "1             NaN  \n",
       "2             NaN  \n",
       "3             NaN  \n",
       "4             NaN  \n",
       "\n",
       "[5 rows x 21 columns]"
      ]
     },
     "execution_count": 18,
     "metadata": {},
     "output_type": "execute_result"
    }
   ],
   "source": [
    "df.head()"
   ]
  },
  {
   "cell_type": "markdown",
   "id": "223b15e1",
   "metadata": {},
   "source": [
    "-------"
   ]
  },
  {
   "cell_type": "markdown",
   "id": "29025b2a",
   "metadata": {},
   "source": [
    "### Preprocessing from Alvin's `draft.ipynb`\n",
    "\n",
    "consider \"Events\" only, instead of \"Event\" + \"Detail 1\"."
   ]
  },
  {
   "cell_type": "code",
   "execution_count": 97,
   "id": "83f13004",
   "metadata": {},
   "outputs": [],
   "source": [
    "TEST_new_df = df.copy()\n",
    "\n",
    "TEST_new_df['game_id'] = df.groupby(['game_date', 'Home Team', 'Away Team'], sort=False).ngroup()+1\n",
    "\n",
    "first_column = TEST_new_df.pop('game_id')\n",
    "TEST_new_df.insert(0, 'game_id', first_column)\n",
    "\n",
    "TEST_new_df['Goal Target'] = 0\n",
    "\n",
    "i=0\n",
    "\n",
    "while i < len(TEST_new_df):\n",
    "    if (TEST_new_df['Event'][i] == 'Goal'):\n",
    "\n",
    "        TEST_new_df.at[i-1, 'Goal Target'] = 1\n",
    "\n",
    "\n",
    "    i += 1\n",
    "\n",
    "TEST_new_df['Goal Target'].sum()\n",
    "\n",
    "LB = LabelBinarizer()\n",
    "\n",
    "labels = pd.DataFrame(LB.fit_transform(TEST_new_df['Event']), columns=LB.classes_)\n",
    "TEST_new_df = pd.concat([TEST_new_df, labels], axis=1)\n",
    "\n",
    "TEST_new_df.head()\n",
    "\n",
    "TEST_new_df.to_csv('TEST_new_df.csv', index=False)"
   ]
  },
  {
   "cell_type": "code",
   "execution_count": 89,
   "id": "d1ffb65a",
   "metadata": {},
   "outputs": [
    {
     "data": {
      "text/plain": [
       "Index(['Dump In/Out', 'Faceoff Win', 'Goal', 'Incomplete Play',\n",
       "       'Penalty Taken', 'Play', 'Puck Recovery', 'Shot', 'Takeaway',\n",
       "       'Zone Entry'],\n",
       "      dtype='object')"
      ]
     },
     "execution_count": 89,
     "metadata": {},
     "output_type": "execute_result"
    }
   ],
   "source": [
    "y2 = TEST_new_df.iloc[:, 22]\n",
    "x2 = TEST_new_df.iloc[:, 23:34]\n",
    "# x2 = x2.drop('Goal', 1)\n",
    "\n",
    "x2.columns"
   ]
  },
  {
   "cell_type": "markdown",
   "id": "fda3cea7",
   "metadata": {},
   "source": [
    "------------------------------------------------------------------------------------------------------"
   ]
  },
  {
   "cell_type": "markdown",
   "id": "2c8de966",
   "metadata": {},
   "source": [
    "### Split training and test sets"
   ]
  },
  {
   "cell_type": "code",
   "execution_count": 108,
   "id": "a7b540dd",
   "metadata": {},
   "outputs": [],
   "source": [
    "train, test = train_test_split(TEST_new_df, test_size = 0.3, random_state = 42)"
   ]
  },
  {
   "cell_type": "markdown",
   "id": "e3f829a1",
   "metadata": {},
   "source": [
    "# Logistic Regression using statsmodels"
   ]
  },
  {
   "cell_type": "markdown",
   "id": "b9cca99b",
   "metadata": {},
   "source": [
    "- LR in sklearn"
   ]
  },
  {
   "cell_type": "code",
   "execution_count": 119,
   "id": "f323ef8f",
   "metadata": {},
   "outputs": [
    {
     "name": "stdout",
     "output_type": "stream",
     "text": [
      "[[-0.8864907  -0.08707315 -1.18195158 -0.14060616  1.10072918  0.66385079\n",
      "   0.25150056 -0.16185597  0.98690904 -0.54562116]]\n"
     ]
    }
   ],
   "source": [
    "train, test = train_test_split(TEST_new_df, test_size = 0.3, random_state = 42)\n",
    "Y_train = train['Goal Target']\n",
    "X_train = train[['Dump In/Out', 'Goal', 'Incomplete Play', 'Penalty Taken', \n",
    "           'Play', 'Puck Recovery', 'Shot', 'Takeaway', 'Zone Entry', 'Faceoff Win']]\n",
    "\n",
    "LR = LogisticRegression()\n",
    "LR.fit(X_train, Y_train)\n",
    "print(LR.coef_)"
   ]
  },
  {
   "cell_type": "markdown",
   "id": "45a76c23",
   "metadata": {},
   "source": [
    "--------------"
   ]
  },
  {
   "cell_type": "markdown",
   "id": "74e88784",
   "metadata": {},
   "source": [
    "### using training set to fit model"
   ]
  },
  {
   "cell_type": "code",
   "execution_count": 121,
   "id": "3a7579c5",
   "metadata": {},
   "outputs": [
    {
     "name": "stdout",
     "output_type": "stream",
     "text": [
      "Warning: Maximum number of iterations has been exceeded.\n",
      "         Current function value: 0.019329\n",
      "         Iterations: 35\n",
      "                           Logit Regression Results                           \n",
      "==============================================================================\n",
      "Dep. Variable:            Goal Target   No. Observations:                18817\n",
      "Model:                          Logit   Df Residuals:                    18807\n",
      "Method:                           MLE   Df Model:                            9\n",
      "Date:                Sun, 05 Jun 2022   Pseudo R-squ.:                 0.04709\n",
      "Time:                        19:18:20   Log-Likelihood:                -363.70\n",
      "converged:                      False   LL-Null:                       -381.68\n",
      "Covariance Type:            nonrobust   LLR p-value:                 4.053e-05\n",
      "===================================================================================\n",
      "                      coef    std err          z      P>|z|      [0.025      0.975]\n",
      "-----------------------------------------------------------------------------------\n",
      "Dump In/Out       -22.0364   1680.792     -0.013      0.990   -3316.328    3272.255\n",
      "Goal              -17.4552    810.295     -0.022      0.983   -1605.604    1570.694\n",
      "Incomplete Play   -24.1758   3658.923     -0.007      0.995   -7195.533    7147.182\n",
      "Penalty Taken     -25.6114   3.66e+04     -0.001      0.999   -7.18e+04    7.17e+04\n",
      "Play               -5.2720      0.197    -26.813      0.000      -5.657      -4.887\n",
      "Puck Recovery      -5.7167      0.230    -24.878      0.000      -6.167      -5.266\n",
      "Shot               -6.0769      0.578    -10.513      0.000      -7.210      -4.944\n",
      "Takeaway           -6.7286      1.001     -6.725      0.000      -8.690      -4.767\n",
      "Zone Entry         -5.2767      0.379    -13.925      0.000      -6.019      -4.534\n",
      "Faceoff Win       -28.6260   6.85e+04     -0.000      1.000   -1.34e+05    1.34e+05\n",
      "===================================================================================\n",
      "\n",
      "Possibly complete quasi-separation: A fraction 0.23 of observations can be\n",
      "perfectly predicted. This might indicate that there is complete\n",
      "quasi-separation. In this case some parameters will not be identified.\n"
     ]
    },
    {
     "name": "stderr",
     "output_type": "stream",
     "text": [
      "/Users/yexuanshen/opt/anaconda3/lib/python3.8/site-packages/statsmodels/base/model.py:566: ConvergenceWarning: Maximum Likelihood optimization failed to converge. Check mle_retvals\n",
      "  warnings.warn(\"Maximum Likelihood optimization failed to \"\n"
     ]
    }
   ],
   "source": [
    "Y_train = train['Goal Target']\n",
    "X_train = train[['Dump In/Out', 'Goal', 'Incomplete Play', 'Penalty Taken', \n",
    "           'Play', 'Puck Recovery', 'Shot', 'Takeaway', 'Zone Entry', 'Faceoff Win']]\n",
    "\n",
    "#??? error with \"Faceoff Win\" when using training set when test_size = 0.2\n",
    "# no error when test_size = 0.3\n",
    "\n",
    "log_reg = sm.Logit(Y_train, X_train).fit()\n",
    "\n",
    "print(log_reg.summary())"
   ]
  },
  {
   "cell_type": "markdown",
   "id": "e7555bcd",
   "metadata": {},
   "source": [
    "- performing predictions on the test datdaset"
   ]
  },
  {
   "cell_type": "code",
   "execution_count": 114,
   "id": "15cc1dcc",
   "metadata": {},
   "outputs": [],
   "source": [
    "# defining the dependent and independent variables\n",
    "Y_test = test['Goal Target']\n",
    "X_test = test[['Dump In/Out', 'Goal', 'Incomplete Play', 'Penalty Taken', \n",
    "           'Play', 'Puck Recovery', 'Shot', 'Takeaway', 'Zone Entry', 'Faceoff Win']]\n",
    "\n",
    "  \n",
    "# performing predictions on the test datdaset\n",
    "yhat = log_reg.predict(X_test)\n",
    "prediction = list(map(round, yhat))\n",
    "  \n",
    "# comparing original and predicted values of y\n",
    "#print('Actual values', list(Y_test.values))\n",
    "#print('Predictions :', prediction)"
   ]
  },
  {
   "cell_type": "markdown",
   "id": "ec0cd6b4",
   "metadata": {},
   "source": [
    "- testing accuracy of model: (confusion matrix)"
   ]
  },
  {
   "cell_type": "code",
   "execution_count": 115,
   "id": "252e1fd2",
   "metadata": {},
   "outputs": [
    {
     "name": "stdout",
     "output_type": "stream",
     "text": [
      "Confusion Matrix : \n",
      " [[8045    0]\n",
      " [  20    0]]\n",
      "Test accuracy =  0.9975201487910725\n"
     ]
    }
   ],
   "source": [
    "from sklearn.metrics import (confusion_matrix, accuracy_score)\n",
    "  \n",
    "# confusion matrix\n",
    "cm = confusion_matrix(Y_test, prediction) \n",
    "print (\"Confusion Matrix : \\n\", cm) \n",
    "  \n",
    "# accuracy score of the model\n",
    "print('Test accuracy = ', accuracy_score(Y_test, prediction))"
   ]
  },
  {
   "cell_type": "markdown",
   "id": "9ee67903",
   "metadata": {},
   "source": [
    "---------"
   ]
  },
  {
   "cell_type": "markdown",
   "id": "de732b5d",
   "metadata": {},
   "source": [
    "### using the full dataset to fit model"
   ]
  },
  {
   "cell_type": "code",
   "execution_count": 109,
   "id": "a2c817b5",
   "metadata": {},
   "outputs": [
    {
     "name": "stdout",
     "output_type": "stream",
     "text": [
      "Warning: Maximum number of iterations has been exceeded.\n",
      "         Current function value: 0.018538\n",
      "         Iterations: 35\n",
      "                           Logit Regression Results                           \n",
      "==============================================================================\n",
      "Dep. Variable:            Goal Target   No. Observations:                26882\n",
      "Model:                          Logit   Df Residuals:                    26872\n",
      "Method:                           MLE   Df Model:                            9\n",
      "Date:                Sun, 05 Jun 2022   Pseudo R-squ.:                 0.04513\n",
      "Time:                        18:50:54   Log-Likelihood:                -498.34\n",
      "converged:                      False   LL-Null:                       -521.90\n",
      "Covariance Type:            nonrobust   LLR p-value:                 3.753e-07\n",
      "===================================================================================\n",
      "                      coef    std err          z      P>|z|      [0.025      0.975]\n",
      "-----------------------------------------------------------------------------------\n",
      "Dump In/Out       -23.6999   3245.317     -0.007      0.994   -6384.404    6337.004\n",
      "Goal              -19.0545   1574.829     -0.012      0.990   -3105.662    3067.553\n",
      "Incomplete Play   -19.4252    282.147     -0.069      0.945    -572.423     533.573\n",
      "Penalty Taken     -24.2625   1.55e+04     -0.002      0.999   -3.03e+04    3.03e+04\n",
      "Play               -5.3875      0.174    -30.879      0.000      -5.730      -5.046\n",
      "Puck Recovery      -5.7145      0.193    -29.644      0.000      -6.092      -5.337\n",
      "Shot               -6.1659      0.501    -12.319      0.000      -7.147      -5.185\n",
      "Takeaway           -6.4011      0.708     -9.045      0.000      -7.788      -5.014\n",
      "Zone Entry         -5.2648      0.317    -16.606      0.000      -5.886      -4.643\n",
      "Faceoff Win       -36.1394   2.42e+06  -1.49e-05      1.000   -4.74e+06    4.74e+06\n",
      "===================================================================================\n",
      "\n",
      "Possibly complete quasi-separation: A fraction 0.24 of observations can be\n",
      "perfectly predicted. This might indicate that there is complete\n",
      "quasi-separation. In this case some parameters will not be identified.\n"
     ]
    },
    {
     "name": "stderr",
     "output_type": "stream",
     "text": [
      "/Users/yexuanshen/opt/anaconda3/lib/python3.8/site-packages/statsmodels/base/model.py:566: ConvergenceWarning: Maximum Likelihood optimization failed to converge. Check mle_retvals\n",
      "  warnings.warn(\"Maximum Likelihood optimization failed to \"\n"
     ]
    }
   ],
   "source": [
    "Y = TEST_new_df['Goal Target']\n",
    "X = TEST_new_df[['Dump In/Out', 'Goal', 'Incomplete Play', 'Penalty Taken', \n",
    "           'Play', 'Puck Recovery', 'Shot', 'Takeaway', 'Zone Entry', 'Faceoff Win']]\n",
    "\n",
    "# no issue with \"Faceoff Win\" here using full dataset\n",
    "\n",
    "log_reg = sm.Logit(Y, X).fit()\n",
    "\n",
    "print(log_reg.summary())"
   ]
  },
  {
   "cell_type": "code",
   "execution_count": null,
   "id": "965e5174",
   "metadata": {},
   "outputs": [],
   "source": []
  },
  {
   "cell_type": "markdown",
   "id": "b5654294",
   "metadata": {},
   "source": [
    "----------"
   ]
  }
 ],
 "metadata": {
  "kernelspec": {
   "display_name": "Python 3",
   "language": "python",
   "name": "python3"
  },
  "language_info": {
   "codemirror_mode": {
    "name": "ipython",
    "version": 3
   },
   "file_extension": ".py",
   "mimetype": "text/x-python",
   "name": "python",
   "nbconvert_exporter": "python",
   "pygments_lexer": "ipython3",
   "version": "3.8.8"
  }
 },
 "nbformat": 4,
 "nbformat_minor": 5
}
