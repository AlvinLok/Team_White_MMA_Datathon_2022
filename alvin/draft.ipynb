{
 "cells": [
  {
   "cell_type": "code",
   "execution_count": 1,
   "metadata": {},
   "outputs": [],
   "source": [
    "import pandas as pd\n",
    "import matplotlib as plot"
   ]
  },
  {
   "cell_type": "code",
   "execution_count": 5,
   "metadata": {},
   "outputs": [
    {
     "name": "stdout",
     "output_type": "stream",
     "text": [
      "<class 'pandas.core.frame.DataFrame'>\n",
      "RangeIndex: 26882 entries, 0 to 26881\n",
      "Data columns (total 21 columns):\n",
      " #   Column             Non-Null Count  Dtype  \n",
      "---  ------             --------------  -----  \n",
      " 0   game_date          26882 non-null  object \n",
      " 1   Home Team          26882 non-null  object \n",
      " 2   Away Team          26882 non-null  object \n",
      " 3   Period             26882 non-null  int64  \n",
      " 4   Clock              26882 non-null  object \n",
      " 5   Home Team Skaters  26882 non-null  int64  \n",
      " 6   Away Team Skaters  26882 non-null  int64  \n",
      " 7   Home Team Goals    26882 non-null  int64  \n",
      " 8   Away Team Goals    26882 non-null  int64  \n",
      " 9   Team               26882 non-null  object \n",
      " 10  Player             26882 non-null  object \n",
      " 11  Event              26882 non-null  object \n",
      " 12  X Coordinate       26882 non-null  int64  \n",
      " 13  Y Coordinate       26882 non-null  int64  \n",
      " 14  Detail 1           17461 non-null  object \n",
      " 15  Detail 2           1985 non-null   object \n",
      " 16  Detail 3           1985 non-null   object \n",
      " 17  Detail 4           1985 non-null   object \n",
      " 18  Player 2           13605 non-null  object \n",
      " 19  X Coordinate 2     10679 non-null  float64\n",
      " 20  Y Coordinate 2     10679 non-null  float64\n",
      "dtypes: float64(2), int64(7), object(12)\n",
      "memory usage: 4.3+ MB\n",
      "None\n",
      "             Period  Home Team Skaters  Away Team Skaters  Home Team Goals  \\\n",
      "count  26882.000000       26882.000000       26882.000000     26882.000000   \n",
      "mean       2.010565           4.867086           4.866491         1.408005   \n",
      "std        0.834753           0.357216           0.376766         1.598554   \n",
      "min        1.000000           3.000000           3.000000         0.000000   \n",
      "25%        1.000000           5.000000           5.000000         0.000000   \n",
      "50%        2.000000           5.000000           5.000000         1.000000   \n",
      "75%        3.000000           5.000000           5.000000         2.000000   \n",
      "max        4.000000           6.000000           6.000000         6.000000   \n",
      "\n",
      "       Away Team Goals  X Coordinate  Y Coordinate  X Coordinate 2  \\\n",
      "count     26882.000000  26882.000000  26882.000000    10679.000000   \n",
      "mean          0.998847     97.396771     42.192768      108.009739   \n",
      "std           1.292165     63.188185     27.983077       59.195703   \n",
      "min           0.000000      0.000000      0.000000        0.000000   \n",
      "25%           0.000000     33.000000     15.000000       58.000000   \n",
      "50%           1.000000    106.000000     42.000000      112.000000   \n",
      "75%           1.000000    153.000000     69.000000      161.000000   \n",
      "max           7.000000    200.000000     85.000000      200.000000   \n",
      "\n",
      "       Y Coordinate 2  \n",
      "count    10679.000000  \n",
      "mean        42.119019  \n",
      "std         27.196254  \n",
      "min          0.000000  \n",
      "25%         17.000000  \n",
      "50%         42.000000  \n",
      "75%         67.000000  \n",
      "max         85.000000  \n"
     ]
    }
   ],
   "source": [
    "df = pd.read_csv(\"Rotman MMA Summer Datathon NWHL.csv\")\n",
    "\n",
    "print(df.info())\n",
    "print(df.describe())"
   ]
  },
  {
   "cell_type": "code",
   "execution_count": 6,
   "metadata": {},
   "outputs": [
    {
     "name": "stdout",
     "output_type": "stream",
     "text": [
      "    game_date            Home Team     Away Team  Period  Clock  \\\n",
      "0  2021-01-23  Minnesota Whitecaps  Boston Pride       1  20:00   \n",
      "1  2021-01-23  Minnesota Whitecaps  Boston Pride       1  19:58   \n",
      "2  2021-01-23  Minnesota Whitecaps  Boston Pride       1  19:57   \n",
      "3  2021-01-23  Minnesota Whitecaps  Boston Pride       1  19:55   \n",
      "4  2021-01-23  Minnesota Whitecaps  Boston Pride       1  19:53   \n",
      "\n",
      "   Home Team Skaters  Away Team Skaters  Home Team Goals  Away Team Goals  \\\n",
      "0                  5                  5                0                0   \n",
      "1                  5                  5                0                0   \n",
      "2                  5                  5                0                0   \n",
      "3                  5                  5                0                0   \n",
      "4                  5                  5                0                0   \n",
      "\n",
      "           Team  ...          Event X Coordinate  Y Coordinate  Detail 1  \\\n",
      "0  Boston Pride  ...    Faceoff Win          100            43  Backhand   \n",
      "1  Boston Pride  ...  Puck Recovery          107            40       NaN   \n",
      "2  Boston Pride  ...     Zone Entry          125            28   Carried   \n",
      "3  Boston Pride  ...           Shot          131            28  Snapshot   \n",
      "4  Boston Pride  ...    Faceoff Win          169            21  Backhand   \n",
      "\n",
      "  Detail 2 Detail 3 Detail 4            Player 2 X Coordinate 2  \\\n",
      "0      NaN      NaN      NaN  Stephanie Anderson            NaN   \n",
      "1      NaN      NaN      NaN                 NaN            NaN   \n",
      "2      NaN      NaN      NaN         Maddie Rowe            NaN   \n",
      "3   On Net        t        f                 NaN            NaN   \n",
      "4      NaN      NaN      NaN  Stephanie Anderson            NaN   \n",
      "\n",
      "   Y Coordinate 2  \n",
      "0             NaN  \n",
      "1             NaN  \n",
      "2             NaN  \n",
      "3             NaN  \n",
      "4             NaN  \n",
      "\n",
      "[5 rows x 21 columns]\n"
     ]
    }
   ],
   "source": [
    "print(df.head())"
   ]
  },
  {
   "cell_type": "code",
   "execution_count": 7,
   "metadata": {},
   "outputs": [
    {
     "data": {
      "text/plain": [
       "array(['Minnesota Whitecaps', 'Buffalo Beauts', 'Metropolitan Riveters',\n",
       "       'Boston Pride', 'Connecticut Whale', 'Toronto Six'], dtype=object)"
      ]
     },
     "execution_count": 7,
     "metadata": {},
     "output_type": "execute_result"
    }
   ],
   "source": [
    "df['Home Team'].unique()"
   ]
  }
 ],
 "metadata": {
  "interpreter": {
   "hash": "81cc54b57a2d406f3aca210b4188d8da4a60e73a9ebdd2f448029d80e3f6baab"
  },
  "kernelspec": {
   "display_name": "Python 3.9.7 ('498A')",
   "language": "python",
   "name": "python3"
  },
  "language_info": {
   "codemirror_mode": {
    "name": "ipython",
    "version": 3
   },
   "file_extension": ".py",
   "mimetype": "text/x-python",
   "name": "python",
   "nbconvert_exporter": "python",
   "pygments_lexer": "ipython3",
   "version": "3.9.7"
  },
  "orig_nbformat": 4
 },
 "nbformat": 4,
 "nbformat_minor": 2
}
